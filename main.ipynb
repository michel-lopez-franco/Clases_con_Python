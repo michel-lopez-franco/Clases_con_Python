{
 "cells": [
  {
   "cell_type": "code",
   "execution_count": 6,
   "metadata": {},
   "outputs": [
    {
     "name": "stdout",
     "output_type": "stream",
     "text": [
      "Hola mundo\n"
     ]
    }
   ],
   "source": [
    "print(\"Hola mundo\")"
   ]
  },
  {
   "cell_type": "code",
   "execution_count": 7,
   "metadata": {},
   "outputs": [
    {
     "data": {
      "text/plain": [
       "(12, int)"
      ]
     },
     "execution_count": 7,
     "metadata": {},
     "output_type": "execute_result"
    }
   ],
   "source": [
    "a = 3\n",
    "b = 9\n",
    "c = a + b\n",
    "c,type(c)"
   ]
  },
  {
   "cell_type": "code",
   "execution_count": 8,
   "metadata": {},
   "outputs": [
    {
     "data": {
      "text/plain": [
       "(int, float, str)"
      ]
     },
     "execution_count": 8,
     "metadata": {},
     "output_type": "execute_result"
    }
   ],
   "source": [
    "type(10),type(10.10),type(\"hola\")"
   ]
  },
  {
   "cell_type": "code",
   "execution_count": 9,
   "metadata": {},
   "outputs": [
    {
     "data": {
      "text/plain": [
       "([1, 3, 4, 5, 6, 'hola', 'mundo', 5.6], (1, 3, 4, 5, 6, 'hola', 'mundo', 5.6))"
      ]
     },
     "execution_count": 9,
     "metadata": {},
     "output_type": "execute_result"
    }
   ],
   "source": [
    "L = [1,3,4,5,6,\"hola\",\"mundo\",5.6]\n",
    "T = (1,3,4,5,6,\"hola\",\"mundo\",5.6)\n",
    "L,T"
   ]
  },
  {
   "cell_type": "code",
   "execution_count": 10,
   "metadata": {},
   "outputs": [
    {
     "data": {
      "text/plain": [
       "(list, tuple)"
      ]
     },
     "execution_count": 10,
     "metadata": {},
     "output_type": "execute_result"
    }
   ],
   "source": [
    "type(L),type(T)"
   ]
  },
  {
   "cell_type": "code",
   "execution_count": 11,
   "metadata": {},
   "outputs": [
    {
     "data": {
      "text/plain": [
       "[0, 1, 2, 3, 4, 5, 6, 7, 8, 9]"
      ]
     },
     "execution_count": 11,
     "metadata": {},
     "output_type": "execute_result"
    }
   ],
   "source": [
    "list(range(0,10))"
   ]
  },
  {
   "cell_type": "code",
   "execution_count": 12,
   "metadata": {},
   "outputs": [
    {
     "data": {
      "text/plain": [
       "range"
      ]
     },
     "execution_count": 12,
     "metadata": {},
     "output_type": "execute_result"
    }
   ],
   "source": [
    "type(range(0,10))"
   ]
  },
  {
   "cell_type": "code",
   "execution_count": 13,
   "metadata": {},
   "outputs": [],
   "source": [
    "import numpy as np\n"
   ]
  },
  {
   "cell_type": "code",
   "execution_count": 14,
   "metadata": {},
   "outputs": [
    {
     "data": {
      "text/plain": [
       "array([1, 3, 4, 5])"
      ]
     },
     "execution_count": 14,
     "metadata": {},
     "output_type": "execute_result"
    }
   ],
   "source": [
    "np.array([1,3,4,5])\n"
   ]
  },
  {
   "cell_type": "code",
   "execution_count": 15,
   "metadata": {},
   "outputs": [
    {
     "data": {
      "text/plain": [
       "numpy.ndarray"
      ]
     },
     "execution_count": 15,
     "metadata": {},
     "output_type": "execute_result"
    }
   ],
   "source": [
    "type(np.array([1,3,4,5]))"
   ]
  },
  {
   "cell_type": "code",
   "execution_count": 16,
   "metadata": {},
   "outputs": [],
   "source": [
    "from numpy import *"
   ]
  },
  {
   "cell_type": "code",
   "execution_count": 17,
   "metadata": {},
   "outputs": [
    {
     "data": {
      "text/plain": [
       "numpy.ndarray"
      ]
     },
     "execution_count": 17,
     "metadata": {},
     "output_type": "execute_result"
    }
   ],
   "source": [
    "type(array([1,4,5,6]))"
   ]
  },
  {
   "cell_type": "code",
   "execution_count": 18,
   "metadata": {},
   "outputs": [
    {
     "data": {
      "text/plain": [
       "11"
      ]
     },
     "execution_count": 18,
     "metadata": {},
     "output_type": "execute_result"
    }
   ],
   "source": [
    "def suma(a , b):\n",
    "    return a+b\n",
    "\n",
    "suma(5,6)"
   ]
  },
  {
   "cell_type": "code",
   "execution_count": 19,
   "metadata": {},
   "outputs": [
    {
     "data": {
      "text/plain": [
       "12.2"
      ]
     },
     "execution_count": 19,
     "metadata": {},
     "output_type": "execute_result"
    }
   ],
   "source": [
    "suma(5.5,6.7)"
   ]
  },
  {
   "cell_type": "code",
   "execution_count": 20,
   "metadata": {},
   "outputs": [
    {
     "data": {
      "text/plain": [
       "'holamundo'"
      ]
     },
     "execution_count": 20,
     "metadata": {},
     "output_type": "execute_result"
    }
   ],
   "source": [
    "suma(\"hola\",\"mundo\")"
   ]
  },
  {
   "cell_type": "code",
   "execution_count": 21,
   "metadata": {},
   "outputs": [
    {
     "data": {
      "text/plain": [
       "[1, 3, 4, 5, 5, 6, 7, 8]"
      ]
     },
     "execution_count": 21,
     "metadata": {},
     "output_type": "execute_result"
    }
   ],
   "source": [
    "suma([1,3,4,5],[5,6,7,8])"
   ]
  },
  {
   "cell_type": "code",
   "execution_count": 22,
   "metadata": {},
   "outputs": [
    {
     "data": {
      "text/plain": [
       "array([ 9, 12, 10])"
      ]
     },
     "execution_count": 22,
     "metadata": {},
     "output_type": "execute_result"
    }
   ],
   "source": [
    "suma(array([1,3,4]),np.array([8,9,6]))"
   ]
  },
  {
   "cell_type": "markdown",
   "metadata": {},
   "source": [
    "# ¿Por qué funciona?\n",
    "\n",
    "https://docs.python.org/es/3/tutorial/classes.html"
   ]
  },
  {
   "cell_type": "markdown",
   "metadata": {},
   "source": [
    "## Ámbitos y espacios de nombres en Python\n",
    "\n",
    "Antes de ver clases, primero debo decirte algo acerca de las reglas de ámbito de Python. "
   ]
  },
  {
   "cell_type": "code",
   "execution_count": 26,
   "metadata": {},
   "outputs": [
    {
     "name": "stdout",
     "output_type": "stream",
     "text": [
      " * Despues de do_local: test spam\n",
      " * Despues de do_nonlocal: nonlocal spam\n",
      " * Despues de do_global: nonlocal spam\n",
      "Ambito global: global spam\n"
     ]
    }
   ],
   "source": [
    "# Que va mostrar el siguiente codigo\n",
    "\n",
    "def scope_test():\n",
    "    def do_local():\n",
    "        spam = \"local spam\"\n",
    "\n",
    "    def do_nonlocal():\n",
    "        nonlocal spam\n",
    "        spam = \"nonlocal spam\"\n",
    "\n",
    "    def do_global():\n",
    "        global spam\n",
    "        spam = \"global spam\"\n",
    "\n",
    "    spam = \"test spam\"\n",
    "    do_local()\n",
    "    print(\" * Despues de do_local:\", spam)\n",
    "    do_nonlocal()\n",
    "    print(\" * Despues de do_nonlocal:\", spam)\n",
    "    do_global()\n",
    "    print(\" * Despues de do_global:\", spam)\n",
    "\n",
    "scope_test()\n",
    "print(\"Ambito global:\", spam)"
   ]
  },
  {
   "cell_type": "markdown",
   "metadata": {},
   "source": [
    "## Explicacion del codigo\n",
    "\n",
    "Este es un ejemplo que muestra como hacer referencia a distintos ámbitos y espacios de nombres, y cómo las declaraciones global y nonlocal afectan la asignación de variables:"
   ]
  },
  {
   "cell_type": "code",
   "execution_count": 39,
   "metadata": {},
   "outputs": [
    {
     "name": "stdout",
     "output_type": "stream",
     "text": [
      "\u001b[31mhello\u001b[0m \u001b[32mworld\u001b[0m \u001b[36m!\u001b[0m\n"
     ]
    }
   ],
   "source": [
    "#!pip install --upgrade termcolor\n",
    "from termcolor import colored, cprint\n",
    "\n",
    "print(colored('hello', 'red'), colored('world', 'green'),colored('!', 'cyan')) \n",
    "\n",
    "def mi_print(text, spam,op=0):\n",
    "    color =  (\"cyan\",\"magenta\",\"red\")[op]  \n",
    "    print(colored(text, color), colored(spam, 'green'))\n",
    "\n"
   ]
  },
  {
   "cell_type": "code",
   "execution_count": 41,
   "metadata": {},
   "outputs": [
    {
     "name": "stdout",
     "output_type": "stream",
     "text": [
      "\u001b[36m * Antes de do_local:\u001b[0m \u001b[32mtest spam\u001b[0m\n",
      "\u001b[35m     - Dentro de do_local:\u001b[0m \u001b[32mlocal spam\u001b[0m\n",
      "\u001b[36m * Despues de do_local:\u001b[0m \u001b[32mtest spam\u001b[0m\n",
      "\u001b[35m     - Dentro de do_nonlocal:\u001b[0m \u001b[32mnonlocal spam\u001b[0m\n",
      "\u001b[36m * Despues de do_nonlocal:\u001b[0m \u001b[32mnonlocal spam\u001b[0m\n",
      "\u001b[35m     - Dentro de do_global:\u001b[0m \u001b[32mglobal spam\u001b[0m\n",
      "\u001b[36m * Despues de do_global:\u001b[0m \u001b[32mnonlocal spam\u001b[0m\n",
      "\u001b[31mAmbito global:\u001b[0m \u001b[32mglobal spam\u001b[0m\n"
     ]
    }
   ],
   "source": [
    "def scope_test():\n",
    "    def do_local():\n",
    "        spam = \"local spam\"\n",
    "        mi_print(\"     - Dentro de do_local:\", spam,1)\n",
    "\n",
    "    def do_nonlocal():\n",
    "        nonlocal spam\n",
    "        spam = \"nonlocal spam\"\n",
    "        mi_print(\"     - Dentro de do_nonlocal:\", spam,1)\n",
    "\n",
    "    def do_global():\n",
    "        global spam\n",
    "        spam = \"global spam\"\n",
    "        mi_print(\"     - Dentro de do_global:\", spam,1)\n",
    "\n",
    "    spam = \"test spam\"\n",
    "    mi_print(\" * Antes de do_local:\",spam)\n",
    "    do_local()\n",
    "    mi_print(\" * Despues de do_local:\", spam)\n",
    "    do_nonlocal()\n",
    "    mi_print(\" * Despues de do_nonlocal:\", spam)\n",
    "    do_global()\n",
    "    mi_print(\" * Despues de do_global:\", spam)\n",
    "\n",
    "scope_test()\n",
    "mi_print(\"Ambito global:\", spam,2)"
   ]
  },
  {
   "cell_type": "markdown",
   "metadata": {},
   "source": [
    "**El espacio de nombres local** a una función se crea cuando la función es llamada, y se elimina cuando la función retorna o lanza una excepción que no se maneje dentro de la función. (Podríamos decir que lo que pasa en realidad es que ese espacio de nombres se «olvida».) Por supuesto, las llamadas recursivas tienen cada una su propio espacio de nombres local.\n",
    "\n"
   ]
  },
  {
   "cell_type": "markdown",
   "metadata": {},
   "source": [
    "hay 3 o 4 ámbitos anidados cuyos espacios de nombres son directamente accesibles:\n",
    "\n",
    "- el alcance más interno, que es inspeccionado primero, contiene los nombres locales\n",
    "- los alcances de cualquier función que encierra a otra, son inspeccionados a partir del alcance más cercano, contienen nombres no locales, pero también no globales\n",
    "- el penúltimo alcance contiene nombres globales del módulo actual\n",
    "- el alcance más externo (el último inspeccionado) es el espacio de nombres que contiene los nombres integrados\n",
    "\n"
   ]
  },
  {
   "cell_type": "markdown",
   "metadata": {},
   "source": [
    "### \n",
    "\n",
    "<div style=\"color:red; font-size: 20px\"> Los espacios de nombres se crean en diferentes momentos y con diferentes tiempos de vida. </div>\n",
    "\n",
    "<div class=\"titulo\">Hola titulo </div>\n",
    "\n",
    "El espacio de nombres que contiene los nombres incluidos se crea cuando se inicia el intérprete, y nunca se borra. \n",
    "\n",
    "El espacio de nombres global de un módulo se crea cuando se lee la definición de un módulo; normalmente, los espacios de nombres de módulos también duran hasta que el intérprete finaliza. Las instrucciones ejecutadas en el nivel de llamadas superior del intérprete, ya sea desde un script o interactivamente, se consideran parte del módulo llamado __main__, por lo tanto tienen su propio espacio de nombres global. (Los nombres incluidos en realidad también viven en un módulo; este se llama builtins.)"
   ]
  },
  {
   "cell_type": "code",
   "execution_count": 48,
   "metadata": {},
   "outputs": [],
   "source": [
    "import builtins\n",
    "\n",
    "#Este módulo proporciona acceso directo a todos los identificadores “incorporados” de Python.\n",
    "spam = \"test spam\"\n",
    "spam2 = \"test spam\""
   ]
  },
  {
   "cell_type": "code",
   "execution_count": 50,
   "metadata": {},
   "outputs": [
    {
     "data": {
      "text/plain": [
       "(6, 'test spam')"
      ]
     },
     "execution_count": 50,
     "metadata": {},
     "output_type": "execute_result"
    }
   ],
   "source": [
    "builtins.chr(64)\n",
    "builtins.sum( (1,5) ), builtins.globals()[\"spam\"]"
   ]
  },
  {
   "cell_type": "code",
   "execution_count": 55,
   "metadata": {},
   "outputs": [
    {
     "data": {
      "text/plain": [
       "(10, 10.5, '10.5')"
      ]
     },
     "execution_count": 55,
     "metadata": {},
     "output_type": "execute_result"
    }
   ],
   "source": [
    "builtins.int(\"10\"), builtins.float(\"10.5\"), builtins.str(10.5)"
   ]
  },
  {
   "cell_type": "markdown",
   "metadata": {},
   "source": [
    "# Clases\n",
    "\n",
    "Las clases proveen una forma de empaquetar datos y funcionalidad juntos. Al crear una nueva clase, se crea un nuevo tipo de objeto, permitiendo crear nuevas instancias de ese tipo. Cada instancia de clase puede tener atributos adjuntos para mantener su estado. Las instancias de clase también pueden tener métodos (definidos por su clase) para modificar su estado.\n",
    "\n",
    "\n"
   ]
  },
  {
   "cell_type": "markdown",
   "metadata": {},
   "source": [
    "## La forma más sencilla de definición de una clase se ve así:\n",
    "\n",
    "```python\n",
    "class ClassName:\n",
    "    <statement-1>\n",
    "    .\n",
    "    .\n",
    "    .\n",
    "    <statement-N>\n",
    "```\n",
    "\n",
    "Cuando se ingresa una definición de clase, se crea un nuevo espacio de nombres, el cual se usa como ámbito local; por lo tanto, todas las asignaciones a variables locales van a este nuevo espacio de nombres. En particular, las definiciones de funciones asocian el nombre de las funciones nuevas allí.\n",
    "\n",
    "Cuando una definición de clase se finaliza normalmente (al llegar al final) se crea un objeto clase. Básicamente, este objeto envuelve los contenidos del espacio de nombres creado por la definición de la clase"
   ]
  },
  {
   "cell_type": "code",
   "execution_count": 20,
   "metadata": {},
   "outputs": [],
   "source": [
    "class MyClass:\n",
    "    \"\"\"Un ejemplo de una clase en Python\"\"\"\n",
    "    i = 12345\n",
    "\n",
    "    def f(self):\n",
    "        return 'Hola mundo'"
   ]
  },
  {
   "cell_type": "code",
   "execution_count": null,
   "metadata": {},
   "outputs": [],
   "source": []
  },
  {
   "cell_type": "markdown",
   "metadata": {},
   "source": [
    "## Objetos clase\n",
    "\n",
    "Los objetos clase soportan dos tipos de operaciones: hacer referencia a atributos e instanciación.\n",
    "\n",
    "Para hacer referencia a atributos se usa la sintaxis estándar de todas las referencias a atributos en Python: **objeto.nombre**. Los nombres de atributo válidos son todos los nombres que estaban en el espacio de nombres de la clase cuando ésta se creó. "
   ]
  },
  {
   "cell_type": "code",
   "execution_count": 21,
   "metadata": {},
   "outputs": [
    {
     "data": {
      "text/plain": [
       "12345"
      ]
     },
     "execution_count": 21,
     "metadata": {},
     "output_type": "execute_result"
    }
   ],
   "source": [
    "MyClass.i"
   ]
  },
  {
   "cell_type": "code",
   "execution_count": 25,
   "metadata": {},
   "outputs": [
    {
     "data": {
      "text/plain": [
       "<function __main__.MyClass.f(self)>"
      ]
     },
     "execution_count": 25,
     "metadata": {},
     "output_type": "execute_result"
    }
   ],
   "source": [
    "MyClass.f"
   ]
  },
  {
   "cell_type": "markdown",
   "metadata": {},
   "source": [
    "### La instanciación de clases \n",
    "\n",
    "usa la notación de funciones. Hacé de cuenta que el objeto de clase es una función sin parámetros que retorna una nueva instancia de la clase."
   ]
  },
  {
   "cell_type": "code",
   "execution_count": 26,
   "metadata": {},
   "outputs": [],
   "source": [
    "x = MyClass()\n",
    "# crea una nueva instancia de la clase y asigna este objeto a la variable local x."
   ]
  },
  {
   "cell_type": "code",
   "execution_count": 27,
   "metadata": {},
   "outputs": [
    {
     "data": {
      "text/plain": [
       "(12345, 'Hola mundo')"
      ]
     },
     "execution_count": 27,
     "metadata": {},
     "output_type": "execute_result"
    }
   ],
   "source": [
    "x.i, x.f()"
   ]
  },
  {
   "cell_type": "code",
   "execution_count": 28,
   "metadata": {},
   "outputs": [
    {
     "data": {
      "text/plain": [
       "(12345, 'Hola mundo')"
      ]
     },
     "execution_count": 28,
     "metadata": {},
     "output_type": "execute_result"
    }
   ],
   "source": [
    "# Creamos otra isntancia de la clase\n",
    "y = MyClass()\n",
    "y.i, y.f()"
   ]
  },
  {
   "cell_type": "markdown",
   "metadata": {},
   "source": [
    "### Muchas clases necesitan crear objetos con instancias en un estado inicial particular. \n",
    "\n",
    "Por lo tanto una clase puede definir un método especial llamado __init__(), de esta forma"
   ]
  },
  {
   "cell_type": "code",
   "execution_count": 32,
   "metadata": {},
   "outputs": [
    {
     "data": {
      "text/plain": [
       "(3.0, -4.5)"
      ]
     },
     "execution_count": 32,
     "metadata": {},
     "output_type": "execute_result"
    }
   ],
   "source": [
    "class Complex:\n",
    "    def __init__(self, realpart, imagpart): # Constructor de la clase\n",
    "        self.r = realpart\n",
    "        self.i = imagpart\n",
    "\n",
    "x = Complex(3.0, -4.5)\n",
    "x.r, x.i"
   ]
  },
  {
   "cell_type": "code",
   "execution_count": 33,
   "metadata": {},
   "outputs": [
    {
     "data": {
      "text/plain": [
       "(5.0, 10.5)"
      ]
     },
     "execution_count": 33,
     "metadata": {},
     "output_type": "execute_result"
    }
   ],
   "source": [
    "y = Complex(5.0, 10.5)\n",
    "y.r, y.i"
   ]
  },
  {
   "cell_type": "markdown",
   "metadata": {},
   "source": [
    " ### Atributos y métodos.\n",
    "\n",
    " Los atributos de datos se corresponden con las «variables de instancia» en Smalltalk, y con las «variables miembro» en C++. \n",
    " \n",
    " <div style=\"color: red\">Nota:</div> \n",
    " Los atributos de datos no necesitan ser declarados. tal como las variables locales son creados la primera vez que se les asigna algo."
   ]
  },
  {
   "cell_type": "code",
   "execution_count": 35,
   "metadata": {},
   "outputs": [
    {
     "name": "stdout",
     "output_type": "stream",
     "text": [
      "16\n"
     ]
    }
   ],
   "source": [
    "x.counter = 1\n",
    "while x.counter < 10:\n",
    "    x.counter = x.counter * 2\n",
    "print(x.counter)\n",
    "del x.counter"
   ]
  },
  {
   "cell_type": "code",
   "execution_count": 39,
   "metadata": {},
   "outputs": [],
   "source": [
    "#x.counter"
   ]
  },
  {
   "cell_type": "code",
   "execution_count": 40,
   "metadata": {},
   "outputs": [
    {
     "data": {
      "text/plain": [
       "'Hola mundo'"
      ]
     },
     "execution_count": 40,
     "metadata": {},
     "output_type": "execute_result"
    }
   ],
   "source": [
    "x = MyClass()\n",
    "x.f()"
   ]
  },
  {
   "cell_type": "markdown",
   "metadata": {},
   "source": [
    "<div style=\"color: red\">Nota:</div> \n",
    "Lo que tienen de especial los métodos es que el objeto es pasado como el primer argumento de la función. \n",
    "\n",
    "En nuestro ejemplo, la llamada x.f() es exactamente equivalente a MyClass.f(x).\n",
    "\n",
    "En general, llamar a un método con una lista de n argumentos es equivalente a llamar a la función correspondiente con una lista de argumentos que es creada insertando el objeto del método antes del primer argumento.\n",
    "\n"
   ]
  },
  {
   "cell_type": "code",
   "execution_count": 41,
   "metadata": {},
   "outputs": [
    {
     "data": {
      "text/plain": [
       "'Hola mundo'"
      ]
     },
     "execution_count": 41,
     "metadata": {},
     "output_type": "execute_result"
    }
   ],
   "source": [
    "MyClass.f(x)"
   ]
  },
  {
   "cell_type": "markdown",
   "metadata": {},
   "source": [
    "### Atributos de clase vs Atributos de instancia ( Variables de clase y de instancia )\n",
    "\n",
    "En general, las variables de instancia son para datos únicos de cada instancia y las variables de clase son para atributos y métodos compartidos por todas las instancias de la clase:\n",
    "\n"
   ]
  },
  {
   "cell_type": "code",
   "execution_count": 42,
   "metadata": {},
   "outputs": [
    {
     "data": {
      "text/plain": [
       "('canino', 'canino', 'canino')"
      ]
     },
     "execution_count": 42,
     "metadata": {},
     "output_type": "execute_result"
    }
   ],
   "source": [
    "class Dog:\n",
    "    \n",
    "    kind = 'canino'         # variable de clase compartida por todas las instancias\n",
    "\n",
    "    def __init__(self, name):\n",
    "        self.name = name    # variable de instancia única para la instancia\n",
    "\n",
    "d = Dog('Firulais')\n",
    "e = Dog('Firilaysa')\n",
    "\n",
    "d.kind,e.kind,Dog.kind                  # compartido por todos los perros"
   ]
  },
  {
   "cell_type": "code",
   "execution_count": 44,
   "metadata": {},
   "outputs": [
    {
     "data": {
      "text/plain": [
       "('Firulais', 'Firilaysa')"
      ]
     },
     "execution_count": 44,
     "metadata": {},
     "output_type": "execute_result"
    }
   ],
   "source": [
    "d.name, e.name    # unico para cada perro"
   ]
  },
  {
   "cell_type": "markdown",
   "metadata": {},
   "source": [
    "Los datos compartidos pueden tener efectos inesperados que involucren objetos mutable como ser listas y diccionarios. Por ejemplo, la lista tricks en el siguiente código no debería ser usada como variable de clase porque una sola lista sería compartida por todos las instancias de Dog:"
   ]
  },
  {
   "cell_type": "code",
   "execution_count": 49,
   "metadata": {},
   "outputs": [],
   "source": [
    "class Dog:\n",
    "    \n",
    "    tricks = []             # uso incorrecto de una variable de clase\n",
    "\n",
    "    def __init__(self, name):\n",
    "        self.name = name\n",
    "\n",
    "    def add_trick(self, trick):\n",
    "        self.tricks.append(trick)\n",
    "\n",
    "d = Dog('Firulais')\n",
    "e = Dog('Firilaysa')\n",
    "\n",
    "d.add_trick('Dar la pata') \n",
    "e.add_trick('hacerse el muerto') "
   ]
  },
  {
   "cell_type": "code",
   "execution_count": 52,
   "metadata": {},
   "outputs": [
    {
     "data": {
      "text/plain": [
       "['Dar la pata', 'hacerse el muerto']"
      ]
     },
     "execution_count": 52,
     "metadata": {},
     "output_type": "execute_result"
    }
   ],
   "source": [
    "# compartido por todas las instancias de la clase\n",
    "d.tricks                \n"
   ]
  },
  {
   "cell_type": "code",
   "execution_count": 51,
   "metadata": {},
   "outputs": [
    {
     "data": {
      "text/plain": [
       "['Dar la pata', 'hacerse el muerto']"
      ]
     },
     "execution_count": 51,
     "metadata": {},
     "output_type": "execute_result"
    }
   ],
   "source": [
    "e.tricks"
   ]
  },
  {
   "cell_type": "markdown",
   "metadata": {},
   "source": [
    "El diseño correcto de esta clase sería usando una variable de instancia:"
   ]
  },
  {
   "cell_type": "code",
   "execution_count": 55,
   "metadata": {},
   "outputs": [
    {
     "data": {
      "text/plain": [
       "(['Dar la pata'], ['hacerse el muerto'])"
      ]
     },
     "execution_count": 55,
     "metadata": {},
     "output_type": "execute_result"
    }
   ],
   "source": [
    "class Dog:\n",
    "    \n",
    "    def __init__(self, name):\n",
    "        self.name = name\n",
    "        self.tricks = []    # crea una nueva lista vacía para cada perro\n",
    "\n",
    "    def add_trick(self, trick):\n",
    "        self.tricks.append(trick)\n",
    "\n",
    "d = Dog('Firulais')\n",
    "e = Dog('Firilaysa')\n",
    "\n",
    "d.add_trick('Dar la pata') \n",
    "e.add_trick('hacerse el muerto') \n",
    "d.tricks,e.tricks\n",
    "#print(d.tricks,e.tricks)"
   ]
  },
  {
   "cell_type": "markdown",
   "metadata": {},
   "source": [
    "A menudo, el primer argumento de un método se llama self (uno mismo). Esto es una convención: el nombre self no significa nada en especial para Python. \n",
    "\n",
    "Observá que, sin embargo, si no sigues la convención tu código puede resultar menos legible a otros programadores de Python."
   ]
  },
  {
   "cell_type": "code",
   "execution_count": 59,
   "metadata": {},
   "outputs": [],
   "source": [
    "# Funcion definida fuera de la clase\n",
    "def f1(yo, x, y):\n",
    "    return min(x, x+y)\n",
    "\n",
    "class C:\n",
    "    f = f1\n",
    "\n",
    "    def g(yo):\n",
    "        return 'hello world'\n",
    "\n",
    "    h = g\n",
    "    \n",
    "a = C()\n"
   ]
  },
  {
   "cell_type": "code",
   "execution_count": 60,
   "metadata": {},
   "outputs": [
    {
     "data": {
      "text/plain": [
       "4"
      ]
     },
     "execution_count": 60,
     "metadata": {},
     "output_type": "execute_result"
    }
   ],
   "source": [
    "a.f(4,5)"
   ]
  },
  {
   "cell_type": "markdown",
   "metadata": {},
   "source": [
    "Cualquier objeto función que es un atributo de clase define un método para instancias de esa clase. No es necesario que el la definición de la función esté textualmente dentro de la definición de la clase: asignando un objeto función a una variable local en la clase también está bien. \n",
    "\n",
    "Fijate que esta práctica normalmente sólo sirve para confundir al que lea un programa."
   ]
  },
  {
   "cell_type": "code",
   "execution_count": 61,
   "metadata": {},
   "outputs": [
    {
     "data": {
      "text/plain": [
       "('hello world', 'hello world')"
      ]
     },
     "execution_count": 61,
     "metadata": {},
     "output_type": "execute_result"
    }
   ],
   "source": [
    "a.g(),a.h()"
   ]
  },
  {
   "cell_type": "markdown",
   "metadata": {},
   "source": [
    "Los métodos pueden llamar a otros métodos de la instancia usando el argumento self:\n",
    "\n"
   ]
  },
  {
   "cell_type": "code",
   "execution_count": 62,
   "metadata": {},
   "outputs": [],
   "source": [
    "class Bag:\n",
    "    def __init__(self):\n",
    "        self.data = []\n",
    "\n",
    "    def add(self, x):\n",
    "        self.data.append(x)\n",
    "\n",
    "    def addtwice(self, x):\n",
    "        self.add(x)\n",
    "        self.add(x)"
   ]
  },
  {
   "cell_type": "code",
   "execution_count": 63,
   "metadata": {},
   "outputs": [],
   "source": [
    "b = Bag()"
   ]
  },
  {
   "cell_type": "code",
   "execution_count": 64,
   "metadata": {},
   "outputs": [],
   "source": [
    "b.add(10)"
   ]
  },
  {
   "cell_type": "code",
   "execution_count": 65,
   "metadata": {},
   "outputs": [],
   "source": [
    "b.addtwice(5)"
   ]
  },
  {
   "cell_type": "code",
   "execution_count": 66,
   "metadata": {},
   "outputs": [
    {
     "data": {
      "text/plain": [
       "[10, 5, 5]"
      ]
     },
     "execution_count": 66,
     "metadata": {},
     "output_type": "execute_result"
    }
   ],
   "source": [
    "b.data"
   ]
  },
  {
   "cell_type": "code",
   "execution_count": 67,
   "metadata": {},
   "outputs": [],
   "source": [
    "b.data.append(7)"
   ]
  },
  {
   "cell_type": "code",
   "execution_count": 68,
   "metadata": {},
   "outputs": [
    {
     "data": {
      "text/plain": [
       "[10, 5, 5, 7]"
      ]
     },
     "execution_count": 68,
     "metadata": {},
     "output_type": "execute_result"
    }
   ],
   "source": [
    "b.data"
   ]
  },
  {
   "cell_type": "markdown",
   "metadata": {},
   "source": [
    "# Ejercicio:\n",
    "\n",
    "Modifica la clase Persona, la cual cada objeto tiene que tener su propio nombre"
   ]
  },
  {
   "cell_type": "code",
   "execution_count": 69,
   "metadata": {},
   "outputs": [
    {
     "name": "stdout",
     "output_type": "stream",
     "text": [
      "Michel está caminando\n",
      "Michel\n",
      "18\n"
     ]
    }
   ],
   "source": [
    "class Persona: \n",
    "\t# atributos\n",
    "\tnombre = \"Michel\"\n",
    "\tedad = 18 \n",
    "\t\n",
    "\t# metodos\n",
    "\tdef camina(self):\n",
    "\t\tprint(self.nombre + \" está caminando\")\n",
    "  \n",
    "p1 = Persona() # la variable p1 contiene un objeto de la clase Persona\n",
    "p1.camina()\n",
    "print(p1.nombre)  \n",
    "print(p1.edad)"
   ]
  },
  {
   "cell_type": "code",
   "execution_count": 71,
   "metadata": {},
   "outputs": [
    {
     "name": "stdout",
     "output_type": "stream",
     "text": [
      "Michel está caminando\n",
      "Michel\n",
      "18\n"
     ]
    }
   ],
   "source": [
    "p3 = Persona() # la variable p3 contiene un objeto de la clase Persona\n",
    "p3.camina()\n",
    "print(p3.nombre)  \n",
    "print(p3.edad)"
   ]
  },
  {
   "cell_type": "code",
   "execution_count": null,
   "metadata": {},
   "outputs": [],
   "source": []
  },
  {
   "cell_type": "markdown",
   "metadata": {},
   "source": [
    "Una posible solucion es:"
   ]
  },
  {
   "cell_type": "code",
   "execution_count": 77,
   "metadata": {},
   "outputs": [
    {
     "name": "stdout",
     "output_type": "stream",
     "text": [
      "Michel está caminando\n",
      "Michel\n",
      "18\n",
      "Juan está caminando\n",
      "Juan\n",
      "18\n"
     ]
    }
   ],
   "source": [
    "class Persona: \n",
    "\t# atributos\n",
    "    num_personas = 0\n",
    "    \n",
    "    def __init__(self,nombre,edad):\n",
    "        self.nombre = nombre\n",
    "        self.edad = edad\n",
    "        Persona.num_personas +=1\n",
    "    \n",
    "    # metodos\n",
    "    def camina(self):\n",
    "        print(self.nombre + \" está caminando\")\n",
    "        \n",
    "    def numeroPersonas():\n",
    "        print(f\"Existen {Persona.num_personas} personas \")\n",
    "  \n",
    "p1 = Persona(\"Michel\",18) # la variable p1 contiene un objeto de la clase Persona\n",
    "p1.camina()\n",
    "print(p1.nombre)  \n",
    "print(p1.edad)\n",
    "\n",
    "p3 = Persona(\"Juan\",18) # la variable p1 contiene un objeto de la clase Persona\n",
    "p3.camina()\n",
    "print(p3.nombre)  \n",
    "print(p3.edad)"
   ]
  },
  {
   "cell_type": "code",
   "execution_count": 79,
   "metadata": {},
   "outputs": [
    {
     "name": "stdout",
     "output_type": "stream",
     "text": [
      "Existen 2 personas \n"
     ]
    }
   ],
   "source": [
    "Persona.numeroPersonas()"
   ]
  },
  {
   "cell_type": "code",
   "execution_count": 76,
   "metadata": {},
   "outputs": [
    {
     "data": {
      "text/plain": [
       "(2, 2)"
      ]
     },
     "execution_count": 76,
     "metadata": {},
     "output_type": "execute_result"
    }
   ],
   "source": [
    "p3.num_personas,p1.num_personas"
   ]
  },
  {
   "cell_type": "markdown",
   "metadata": {},
   "source": [
    "## Ejercicio 1\n",
    "\n",
    "Crea la clase Coche que contenga las siguientes propiedades:\n",
    "\n",
    "- matrícula (string)\n",
    "- marca (string)\n",
    "- kilometros_recorridos (float)\n",
    "- gasolina (float)\n",
    "\n",
    "La clase tendrá un método llamado avanzar() que recibirá como argumento el número de kilómetros a conducir y sumará los kilómetros recorridos al valor de la propiedad kilometros_recorridos. El método también restará al valor de gasolina el resultado de los kilómetros multiplicado por 0'1. La clase también contendrá otro método llamado repostar() que recibirá como argumento los litros introducidos que deberán sumarse a la variable gasolina. Por último, será necesario controlar que el método avanzar nunca obtendrá un número negativo en la gasolina. En dicho caso, deberá mostrar el siguiente mensaje: \"Es necesario repostar para recorrer la cantidad indicada de kilómetros\".\n",
    "\n",
    "Ejemplo:\n",
    "\n",
    "- avanzar(50) # gasolina = 50\n",
    "- avanzar(100) # kilometros_recorridos = 100, gasolina = 40\n",
    "- avanzar(40) # kilometros_recorridos = 140, gasolina = 36\n",
    "- avanzar(180) # kilometros_recorridos = 320, gasolina = 18"
   ]
  },
  {
   "cell_type": "code",
   "execution_count": 79,
   "metadata": {},
   "outputs": [],
   "source": [
    "class Coche:\n",
    "    def __init__(self, matricula, marca, kilometros_recorridos=0.0, gasolina=0.0):\n",
    "        self.matricula = matricula\n",
    "        self.marca = marca\n",
    "        self.kilometros_recorridos = kilometros_recorridos\n",
    "        self.gasolina = gasolina\n",
    "\n",
    "    def avanzar(self, kilometros):\n",
    "        # Calcular la gasolina necesaria para el viaje\n",
    "        gasolina_necesaria = kilometros * 0.1\n",
    "\n",
    "        # Comprobar si hay suficiente gasolina para realizar el viaje\n",
    "        if self.gasolina >= gasolina_necesaria:\n",
    "            self.kilometros_recorridos += kilometros\n",
    "            self.gasolina -= gasolina_necesaria\n",
    "            print(f\"Avanzado {kilometros} km. Kilómetros totales: {self.kilometros_recorridos}, Gasolina restante: {self.gasolina} L.\")\n",
    "        else:\n",
    "            print(\"Es necesario repostar para recorrer la cantidad indicada de kilómetros\")\n",
    "\n",
    "    def repostar(self, litros):\n",
    "        self.gasolina += litros\n",
    "        print(f\"Repostados {litros} L de gasolina. Gasolina total: {self.gasolina} L.\")\n"
   ]
  },
  {
   "cell_type": "code",
   "execution_count": 88,
   "metadata": {},
   "outputs": [
    {
     "name": "stdout",
     "output_type": "stream",
     "text": [
      "Avanzado 50 km. Kilómetros totales: 50.0, Gasolina restante: 35.0 L.\n",
      "Avanzado 100 km. Kilómetros totales: 150.0, Gasolina restante: 25.0 L.\n",
      "Avanzado 40 km. Kilómetros totales: 190.0, Gasolina restante: 21.0 L.\n",
      "Avanzado 180 km. Kilómetros totales: 370.0, Gasolina restante: 3.0 L.\n",
      "Repostados 10 L de gasolina. Gasolina total: 13.0 L.\n",
      "Es necesario repostar para recorrer la cantidad indicada de kilómetros\n"
     ]
    }
   ],
   "source": [
    "c1 = Coche(\"1234ABC\", \"Renault\", gasolina=40)\n",
    "c1.avanzar(50)\n",
    "c1.avanzar(100)\n",
    "c1.avanzar(40)\n",
    "c1.avanzar(180)\n",
    "c1.repostar(10)\n",
    "c1.avanzar(180)"
   ]
  },
  {
   "cell_type": "markdown",
   "metadata": {},
   "source": [
    "# Ejercicio 2\n",
    "\n",
    "Crea una caminata aleatoria utilizando clases:\n",
    "\n",
    "Una caminata aleatoria es un proceso matemático que describe una trayectoria que consiste en una sucesión de pasos aleatorios. Para simular una caminata aleatoria en un plano 2D, podemos crear una clase CaminataAleatoria que registre la posición actual y pueda hacer movimientos en direcciones aleatorias"
   ]
  },
  {
   "cell_type": "code",
   "execution_count": 89,
   "metadata": {},
   "outputs": [],
   "source": [
    "import random\n",
    "\n",
    "class CaminataAleatoria:\n",
    "    def __init__(self):\n",
    "        self.x = 0\n",
    "        self.y = 0\n",
    "\n",
    "    def paso(self):\n",
    "        direccion = random.choice(['N', 'S', 'E', 'O'])  # Norte, Sur, Este, Oeste\n",
    "        if direccion == 'N':\n",
    "            self.y += 1\n",
    "        elif direccion == 'S':\n",
    "            self.y -= 1\n",
    "        elif direccion == 'E':\n",
    "            self.x += 1\n",
    "        elif direccion == 'O':\n",
    "            self.x -= 1\n",
    "\n",
    "    def posicion_actual(self):\n",
    "        return (self.x, self.y)\n",
    "\n",
    "    def realizar_caminata(self, pasos):\n",
    "        caminata = [(self.x, self.y)]\n",
    "        for _ in range(pasos):\n",
    "            self.paso()\n",
    "            caminata.append((self.x, self.y))\n",
    "        return caminata"
   ]
  },
  {
   "cell_type": "code",
   "execution_count": 107,
   "metadata": {},
   "outputs": [
    {
     "data": {
      "image/png": "[encoded data removed]",
      "text/plain": [
       "<Figure size 1000x600 with 1 Axes>"
      ]
     },
     "metadata": {},
     "output_type": "display_data"
    }
   ],
   "source": [
    "import matplotlib.pyplot as plt\n",
    "\n",
    "# Crear una instancia de la caminata aleatoria\n",
    "caminante = CaminataAleatoria()\n",
    "\n",
    "# Realizar una caminata de 10 pasos\n",
    "trayectoria = caminante.realizar_caminata(100)\n",
    "\n",
    "# Extraer coordenadas X e Y\n",
    "x, y = zip(*trayectoria)\n",
    "\n",
    "# Graficar la caminata aleatoria\n",
    "plt.figure(figsize=(10, 6))\n",
    "plt.plot(x, y, marker='o')\n",
    "plt.plot(x[0], y[0], marker='o',c=\"g\", markersize=20,label='Inicio' )\n",
    "plt.plot(x[-1], y[-1], marker='o',c=\"r\",markersize=20,label='Fin' )\n",
    "plt.legend(prop={'size': 15})\n",
    "plt.title('Caminata Aleatoria en 2D')\n",
    "plt.xlabel('Coordenada X')\n",
    "plt.ylabel('Coordenada Y')\n",
    "plt.grid(True)\n",
    "plt.show()"
   ]
  },
  {
   "cell_type": "markdown",
   "metadata": {},
   "source": []
  },
  {
   "cell_type": "code",
   "execution_count": 108,
   "metadata": {},
   "outputs": [
    {
     "data": {
      "image/png": "[encoded data removed]",
      "text/plain": [
       "<Figure size 1000x600 with 1 Axes>"
      ]
     },
     "metadata": {},
     "output_type": "display_data"
    }
   ],
   "source": [
    "def graficar_caminatas(n_caminatas, n_pasos):\n",
    "    plt.figure(figsize=(10, 6))\n",
    "    \n",
    "    for i in range(n_caminatas):\n",
    "        caminante = CaminataAleatoria()\n",
    "        trayectoria = caminante.realizar_caminata(n_pasos)\n",
    "        x, y = zip(*trayectoria)\n",
    "        plt.plot(x, y, marker='o', label=f'Caminata {i + 1}')\n",
    "        plt.plot(x[0], y[0], marker='o',c=\"g\", markersize=20 )\n",
    "        plt.plot(x[-1], y[-1], marker='o',c=\"r\",markersize=20 )\n",
    "    \n",
    "    plt.title('Caminata Aleatoria en 2D - Múltiples Trayectorias')\n",
    "    plt.xlabel('Coordenada X')\n",
    "    plt.ylabel('Coordenada Y')\n",
    "    plt.legend()\n",
    "    plt.grid(True)\n",
    "    plt.show()\n",
    "\n",
    "# Ejecutar la función para 4 caminatas con 10 pasos cada una\n",
    "graficar_caminatas(4, 100)"
   ]
  },
  {
   "cell_type": "markdown",
   "metadata": {},
   "source": [
    "# Private y protected\n",
    "\n",
    "A diferencia de otros lenguajes de Programación Orientada a Objetos, todos los métodos y atributos en Python son públicos. Es decir, no es posible definir una variable como private o protected.\n",
    "\n",
    "Existe una convención de añadir como prefijo un guión bajo (_) a los atributos que consideramos como protected y dos guiones bajos (__) a las variables que consideramos private."
   ]
  },
  {
   "cell_type": "code",
   "execution_count": 109,
   "metadata": {},
   "outputs": [],
   "source": [
    "class Persona:\n",
    "    def __init__(self, nombre, edad):\n",
    "        self._nombre = nombre  # atributo protected \n",
    "        self.__edad = edad # atributo private\n",
    "        \n",
    "    def muestra(self):\n",
    "        print(f\"{self._nombre} tiene {self.__edad} años\")"
   ]
  },
  {
   "cell_type": "code",
   "execution_count": 110,
   "metadata": {},
   "outputs": [],
   "source": [
    "p1 = Persona(\"Michel\",18)"
   ]
  },
  {
   "cell_type": "code",
   "execution_count": 111,
   "metadata": {},
   "outputs": [
    {
     "data": {
      "text/plain": [
       "'Michel'"
      ]
     },
     "execution_count": 111,
     "metadata": {},
     "output_type": "execute_result"
    }
   ],
   "source": [
    "p1._nombre"
   ]
  },
  {
   "cell_type": "code",
   "execution_count": 112,
   "metadata": {},
   "outputs": [
    {
     "ename": "AttributeError",
     "evalue": "'Persona' object has no attribute '__edad'",
     "output_type": "error",
     "traceback": [
      "\u001b[0;31m---------------------------------------------------------------------------\u001b[0m",
      "\u001b[0;31mAttributeError\u001b[0m                            Traceback (most recent call last)",
      "Cell \u001b[0;32mIn[112], line 1\u001b[0m\n\u001b[0;32m----> 1\u001b[0m \u001b[43mp1\u001b[49m\u001b[38;5;241;43m.\u001b[39;49m\u001b[43m__edad\u001b[49m\n",
      "\u001b[0;31mAttributeError\u001b[0m: 'Persona' object has no attribute '__edad'"
     ]
    }
   ],
   "source": [
    "p1.__edad"
   ]
  },
  {
   "cell_type": "code",
   "execution_count": 113,
   "metadata": {},
   "outputs": [
    {
     "name": "stdout",
     "output_type": "stream",
     "text": [
      "Michel tiene 18 años\n"
     ]
    }
   ],
   "source": [
    "p1.muestra()"
   ]
  },
  {
   "cell_type": "markdown",
   "metadata": {},
   "source": [
    "# Herencia"
   ]
  },
  {
   "cell_type": "markdown",
   "metadata": {},
   "source": [
    "La sintaxis para una definición de clase derivada se ve así:\n",
    "\n",
    "```\n",
    "class DerivedClassName(BaseClassName):\n",
    "    <statement-1>\n",
    "    .\n",
    "    .\n",
    "    .\n",
    "    <statement-N>\n",
    "\n",
    "```\n",
    "\n",
    "Python tiene dos funciones integradas que funcionan con herencia:\n",
    "\n",
    "Usar **isinstance()** para verificar el tipo de una instancia: isinstance(obj, int) será True sólo si obj.__class__ es int o alguna clase derivada de int.\n",
    "\n",
    "Usar **issubclass()** para verificar la herencia de clases: issubclass(bool, int) es True ya que bool es una subclase de int. Sin embargo, issubclass(float, int) es False ya que float no es una subclase de int.\n",
    "\n",
    "\n",
    "Por ejemplo, todas las clases heredan de object, por lo tanto cualquier caso de herencia múltiple provee más de un camino para llegar a object. Para que las clases base no sean accedidas más de una vez, el algoritmo dinámico hace lineal el orden de búsqueda de manera que se preserve el orden de izquierda a derecha especificado en cada clase, que se llame a cada clase base sólo una vez, y que sea monótona (lo cual significa que una clase puede tener clases derivadas sin afectar el orden de precedencia de sus clases bases).\n"
   ]
  },
  {
   "cell_type": "code",
   "execution_count": 118,
   "metadata": {},
   "outputs": [],
   "source": [
    "class A:\n",
    "    def __init__(self,a):\n",
    "        self.a = a\n",
    "        \n",
    "    def muestra(self):\n",
    "        print(f\"En clase A, Valor a-> {self.a}\")"
   ]
  },
  {
   "cell_type": "code",
   "execution_count": 115,
   "metadata": {},
   "outputs": [
    {
     "name": "stdout",
     "output_type": "stream",
     "text": [
      "En clase A, Valor a-> 5\n"
     ]
    }
   ],
   "source": [
    "Obj_a = A(5)\n",
    "Obj_a.muestra()"
   ]
  },
  {
   "cell_type": "code",
   "execution_count": 116,
   "metadata": {},
   "outputs": [
    {
     "name": "stdout",
     "output_type": "stream",
     "text": [
      "En clase B, Valor b-> 3\n",
      "En clase A, Valor a-> 2\n"
     ]
    }
   ],
   "source": [
    "class B(A):\n",
    "    def __init__(self,a,b):\n",
    "        A.__init__(self,a)\n",
    "        self.b = b\n",
    "        \n",
    "    def muestra(self):\n",
    "        print(f\"En clase B, Valor b-> {self.b}\")\n",
    "        A.muestra(self)\n",
    "        \n",
    "obj_b = B(2,3)\n",
    "obj_b.muestra()"
   ]
  },
  {
   "cell_type": "code",
   "execution_count": 117,
   "metadata": {},
   "outputs": [
    {
     "name": "stdout",
     "output_type": "stream",
     "text": [
      "En clase B, Valor b-> 3\n",
      "En clase A, Valor a-> 2\n"
     ]
    }
   ],
   "source": [
    "# Op 2\n",
    "class B(A):\n",
    "    def __init__(self,a,b):\n",
    "        self.a = a\n",
    "        self.b = b\n",
    "        \n",
    "    def muestra(self):\n",
    "        print(f\"En clase B, Valor b-> {self.b}\")\n",
    "        A.muestra(self)\n",
    "        \n",
    "obj_b = B(2,3)\n",
    "obj_b.muestra()"
   ]
  },
  {
   "cell_type": "markdown",
   "metadata": {},
   "source": [
    "# Los codigos anteriores son equivalentes?"
   ]
  },
  {
   "cell_type": "markdown",
   "metadata": {},
   "source": [
    "<div style=\"color: red\">Nota:</div> \n",
    "\n",
    "- Los codigos anteriores son ejemplos de herencia simple en Python\n",
    "- Dan resultados similares, pero el segundo no llama al constructor de la clase padre\n"
   ]
  },
  {
   "cell_type": "code",
   "execution_count": 130,
   "metadata": {},
   "outputs": [],
   "source": [
    "class A:\n",
    "    def __init__(self,a):\n",
    "        self.a = a\n",
    "        self.b = 10\n",
    "        print(\"En el constructor de A\")\n",
    "        \n",
    "    def muestra(self):\n",
    "        print(f\"En clase A, Valor a-> {self.a}\")\n",
    "        print(f\"En clase A, Valor b-> {self.b}\")"
   ]
  },
  {
   "cell_type": "code",
   "execution_count": 131,
   "metadata": {},
   "outputs": [
    {
     "name": "stdout",
     "output_type": "stream",
     "text": [
      "En el constructor de A\n",
      "En el constructor de B\n",
      "En clase B, Valor b-> 3\n",
      "En clase A, Valor a-> 2\n",
      "En clase A, Valor b-> 3\n"
     ]
    }
   ],
   "source": [
    "class B(A):\n",
    "    def __init__(self,a,b):\n",
    "        A.__init__(self,a)\n",
    "        self.b = b\n",
    "        print(\"En el constructor de B\")\n",
    "        \n",
    "    def muestra(self):\n",
    "        print(f\"En clase B, Valor b-> {self.b}\")\n",
    "        A.muestra(self) # Llama explícitamente al método muestra() de la clase A\n",
    "        \n",
    "obj_b = B(2,3)\n",
    "obj_b.muestra()"
   ]
  },
  {
   "cell_type": "code",
   "execution_count": 132,
   "metadata": {},
   "outputs": [
    {
     "name": "stdout",
     "output_type": "stream",
     "text": [
      "En el constructor de B\n",
      "En clase B, Valor b-> 3\n",
      "En clase A, Valor a-> 2\n",
      "En clase A, Valor b-> 3\n"
     ]
    }
   ],
   "source": [
    "# Op 2\n",
    "class B(A):\n",
    "    def __init__(self,a,b):\n",
    "        self.a = a # Establece directamente self.a, sin llamar al constructor de A\n",
    "        self.b = b\n",
    "        print(\"En el constructor de B\")\n",
    "\n",
    "    def muestra(self):\n",
    "        print(f\"En clase B, Valor b-> {self.b}\")\n",
    "        A.muestra(self) # Llama explícitamente al método muestra() de la clase A\n",
    "        \n",
    "obj_b = B(2,3)\n",
    "obj_b.muestra()"
   ]
  },
  {
   "cell_type": "markdown",
   "metadata": {},
   "source": [
    "Este código no llama al constructor de la clase A. En su lugar, directamente inicializa self.a y self.b. Si la clase A realiza alguna inicialización importante en su constructor, esta inicialización no se llevará a cabo.\n",
    "Esto puede ser un problema si la clase A depende de que se ejecute su constructor para funcionar correctamente (por ejemplo, si configura valores predeterminados o realiza alguna configuración necesaria).\n",
    "Al igual que el primer código, este también llama explícitamente al método muestra() de A después de imprimir el valor de b."
   ]
  },
  {
   "cell_type": "markdown",
   "metadata": {},
   "source": [
    "La subclase puede añadir funcionalidades. Esta técnica permite reutilizar código."
   ]
  },
  {
   "cell_type": "code",
   "execution_count": 97,
   "metadata": {},
   "outputs": [
    {
     "name": "stdout",
     "output_type": "stream",
     "text": [
      "Id: 0001, Marca: Logitech, tipo: AZERTY\n",
      "¡Conectado!\n",
      "a\n"
     ]
    }
   ],
   "source": [
    "class Dispositivo:\n",
    "    def __init__(self,identificador,marca):\n",
    "        self.identificador = identificador\n",
    "        self.marca = marca\n",
    "\n",
    "    def conectar(self):\n",
    "        print(\"¡Conectado!\")\n",
    "\n",
    "# la clase base se indica entre paréntesis\n",
    "class Teclado(Dispositivo):\n",
    "\tdef __init__(self,identificador,marca,tipo):\n",
    "\t\t# llamada al constructor del padre\n",
    "\t\tDispositivo.__init__(self,identificador,marca)\n",
    "\t\tself.tipo = tipo\n",
    "\t# metodo de la subclase\n",
    "\tdef pulsar_tecla(self,tecla):\n",
    "\t\tprint(tecla)\n",
    "\n",
    "t1 = Teclado(\"0001\", \"Logitech\", \"AZERTY\")\n",
    "print(f\"Id: {t1.identificador}, Marca: {t1.marca}, tipo: {t1.tipo}\")\n",
    "t1.conectar()\n",
    "t1.pulsar_tecla(\"a\")"
   ]
  },
  {
   "cell_type": "code",
   "execution_count": null,
   "metadata": {},
   "outputs": [],
   "source": []
  },
  {
   "cell_type": "markdown",
   "metadata": {},
   "source": [
    "# Polimorfismo\n",
    "\n",
    "Permite a distintos objetos responder de manera diferente a un mismo llamado de método.\n",
    "\n",
    "Una de las ventajas del polimorfismo es que nos permite escribir código más genérico, lo que a su vez nos permite reutilizar nuestro código en una variedad de situaciones.\n",
    "\n",
    "El polimorfismo está exhibiendo un comportamiento diferente en diferentes condiciones. El polimorfismo viene en dos sabores."
   ]
  },
  {
   "cell_type": "markdown",
   "metadata": {},
   "source": [
    "- Método de sobrecarga\n",
    "- Método Anulado\n",
    "\n",
    "Python no admite la sobrecarga de métodos como otros idiomas. Simplemente reemplazará la última función definida como la última definición. Sin embargo, podemos intentar lograr un resultado similar a la sobrecarga utilizando * args o usando argumentos opcionales."
   ]
  },
  {
   "cell_type": "code",
   "execution_count": 99,
   "metadata": {},
   "outputs": [
    {
     "name": "stdout",
     "output_type": "stream",
     "text": [
      "5\n",
      "12\n"
     ]
    }
   ],
   "source": [
    "class OptionalArgDemo:\n",
    "    def addNums(self, i, j, k=0):\n",
    "        return i + j + k\n",
    "\n",
    "o = OptionalArgDemo()\n",
    "print(o.addNums(2,3))\n",
    "print(o.addNums(2,3,7))\n"
   ]
  },
  {
   "cell_type": "markdown",
   "metadata": {},
   "source": [
    "El polimorfismo en tiempo de ejecución no es más que una anulación del método. Funciona en conjunto con la herencia.\n",
    "\n",
    "La anulación del método es un concepto en el que, aunque el nombre del método y los parámetros pasados son similares, el comportamiento es diferente según el tipo de objeto."
   ]
  },
  {
   "cell_type": "code",
   "execution_count": 101,
   "metadata": {},
   "outputs": [],
   "source": [
    "class Animal:\n",
    "    def makeNoise(self):\n",
    "        raise NotImplementedError\n",
    "\n",
    "class Cat(Animal):\n",
    "    def makeNoise(self):\n",
    "        print(\"Meoooowwwww\")\n",
    "        \n",
    "class Dog(Animal):\n",
    "    def makeNoise(self):\n",
    "        print(\"Woooooof\")"
   ]
  },
  {
   "cell_type": "code",
   "execution_count": 103,
   "metadata": {},
   "outputs": [
    {
     "name": "stdout",
     "output_type": "stream",
     "text": [
      "Meoooowwwww\n",
      "Woooooof\n"
     ]
    }
   ],
   "source": [
    "a = Cat();\n",
    "a.makeNoise() \n",
    "\n",
    "a = Dog();\n",
    "a.makeNoise() "
   ]
  },
  {
   "cell_type": "code",
   "execution_count": 108,
   "metadata": {},
   "outputs": [],
   "source": [
    "class Figura:\n",
    "    def area(self):\n",
    "        pass\n",
    "\n",
    "class Cuadrado(Figura):\n",
    "    def __init__(self, lado):\n",
    "        self.lado = lado\n",
    "\n",
    "    def area(self):\n",
    "        return self.lado * self.lado\n",
    "\n"
   ]
  },
  {
   "cell_type": "code",
   "execution_count": 109,
   "metadata": {},
   "outputs": [],
   "source": [
    "def calcular_area(figura):\n",
    "    return figura.area()"
   ]
  },
  {
   "cell_type": "code",
   "execution_count": 111,
   "metadata": {},
   "outputs": [
    {
     "name": "stdout",
     "output_type": "stream",
     "text": [
      "25\n",
      "28.274328\n",
      "10.0\n"
     ]
    }
   ],
   "source": [
    "cuadrado = Cuadrado(5)\n",
    "circulo = Circulo(3)\n",
    "triangulo = Triangulo(4, 5)\n",
    "\n",
    "print(calcular_area(cuadrado))\n",
    "print(calcular_area(circulo))\n",
    "print(calcular_area(triangulo))"
   ]
  },
  {
   "cell_type": "code",
   "execution_count": 110,
   "metadata": {},
   "outputs": [],
   "source": [
    "class Circulo(Figura):\n",
    "    def __init__(self, Radio):\n",
    "        self.Radio = Radio\n",
    "\n",
    "    def area(self):\n",
    "        return 3.141592 * self.Radio**2 \n",
    "    \n",
    "    \n",
    "class Triangulo(Figura):\n",
    "    def __init__(self, base,altura):\n",
    "        self.base = base\n",
    "        self.altura = altura\n",
    "\n",
    "    def area(self):\n",
    "        return (self.base * self.altura)/2"
   ]
  },
  {
   "cell_type": "code",
   "execution_count": null,
   "metadata": {},
   "outputs": [],
   "source": []
  },
  {
   "cell_type": "code",
   "execution_count": null,
   "metadata": {},
   "outputs": [],
   "source": []
  },
  {
   "cell_type": "markdown",
   "metadata": {},
   "source": [
    "# Encapsulamiento\n",
    "\n",
    "El Encapsulamiento es una técnica en la programación orientada a objetos que nos permite ocultar los detalles internos de los objetos y exponer solo sus interfaces. En otras palabras, el encapsulamiento nos proporciona una capa adicional de seguridad al asegurarse de que los datos se manipulan solo a través de los métodos definidos en la interfaz.\n",
    "\n",
    "\n",
    "Por ejemplo, supongamos que tenemos una clase Persona que tiene un atributo edad. Si no utilizamos el encapsulamiento, cualquier otro código podría modificar el valor de edad del objeto Persona sin restricciones. Así que, ¡de repente, una persona puede tener 500 años en nuestro sistema!\n",
    "\n",
    "\n"
   ]
  },
  {
   "cell_type": "code",
   "execution_count": 115,
   "metadata": {},
   "outputs": [
    {
     "name": "stdout",
     "output_type": "stream",
     "text": [
      "500\n"
     ]
    }
   ],
   "source": [
    "class Persona:\n",
    "    def __init__(self, edad):\n",
    "        self.edad = edad\n",
    "\n",
    "persona = Persona(28)\n",
    "persona.edad = 500 # Esto no debería ser posible sin encapsulamiento\n",
    "print(persona.edad)"
   ]
  },
  {
   "cell_type": "markdown",
   "metadata": {},
   "source": [
    "Para tener más control sobre los datos almacenados en nuestro objeto, podemos aplicar el encapsulamiento y convertir el atributo de la edad en un atributo de solo lectura utilizando el siguiente código:"
   ]
  },
  {
   "cell_type": "code",
   "execution_count": 119,
   "metadata": {},
   "outputs": [
    {
     "ename": "AttributeError",
     "evalue": "property 'edad' of 'Persona' object has no setter",
     "output_type": "error",
     "traceback": [
      "\u001b[0;31m---------------------------------------------------------------------------\u001b[0m",
      "\u001b[0;31mAttributeError\u001b[0m                            Traceback (most recent call last)",
      "\u001b[1;32m/Users/michel/1_CUCEI_2023B/Prope/VsEjs/main.ipynb Celda 102\u001b[0m line \u001b[0;36m1\n\u001b[1;32m      <a href='vscode-notebook-cell:/Users/michel/1_CUCEI_2023B/Prope/VsEjs/main.ipynb#Y225sZmlsZQ%3D%3D?line=8'>9</a>\u001b[0m persona \u001b[39m=\u001b[39m Persona(\u001b[39m28\u001b[39m)\n\u001b[1;32m     <a href='vscode-notebook-cell:/Users/michel/1_CUCEI_2023B/Prope/VsEjs/main.ipynb#Y225sZmlsZQ%3D%3D?line=9'>10</a>\u001b[0m persona\u001b[39m.\u001b[39medad \u001b[39m# Retorna 28\u001b[39;00m\n\u001b[0;32m---> <a href='vscode-notebook-cell:/Users/michel/1_CUCEI_2023B/Prope/VsEjs/main.ipynb#Y225sZmlsZQ%3D%3D?line=10'>11</a>\u001b[0m persona\u001b[39m.\u001b[39medad \u001b[39m=\u001b[39m \u001b[39m500\u001b[39m\n",
      "\u001b[0;31mAttributeError\u001b[0m: property 'edad' of 'Persona' object has no setter"
     ]
    }
   ],
   "source": [
    "class Persona:\n",
    "    def __init__(self, edad):\n",
    "        self.__edad = edad\n",
    "\n",
    "    @property\n",
    "    def edad(self):\n",
    "        return self.__edad\n",
    "\n",
    "persona = Persona(28)\n",
    "persona.edad # Retorna 28\n",
    "persona.edad = 500 # Esto no es posible con encapsulamiento"
   ]
  },
  {
   "cell_type": "markdown",
   "metadata": {},
   "source": [
    "En este ejemplo, hemos agregado el decorador @property sobre el método edad en la clase Persona. Este decorador es utilizado para convertir el método en una propiedad. Ahora podemos utilizar persona.edad para obtener el valor de edad sin necesidad de llamar al método edad() explícitamente."
   ]
  },
  {
   "cell_type": "code",
   "execution_count": 120,
   "metadata": {},
   "outputs": [],
   "source": [
    "class Persona:\n",
    "    def __init__(self, nombre, edad, direccion):\n",
    "        self.nombre = nombre\n",
    "        self.edad = edad\n",
    "        self.__direccion = direccion\n",
    "\n",
    "    def setDireccion(self, direccion):\n",
    "        self.__direccion = direccion\n",
    "\n",
    "    def getDireccion(self):\n",
    "        return self.__direccion"
   ]
  },
  {
   "cell_type": "code",
   "execution_count": 121,
   "metadata": {},
   "outputs": [
    {
     "name": "stdout",
     "output_type": "stream",
     "text": [
      "Calle Falsa 123\n"
     ]
    }
   ],
   "source": [
    "p = Persona(\"Juan\", 25, \"Av. Siempre Viva 123\")\n",
    "p.setDireccion(\"Calle Falsa 123\")\n",
    "print(p.getDireccion())  "
   ]
  },
  {
   "cell_type": "markdown",
   "metadata": {},
   "source": [
    "Las Propiedades son una técnica utilizada en Python para proporcionar un acceso seguro y controlado a los atributos de una clase. Son métodos que se comportan como atributos, lo que significa que podemos reemplazar los métodos de acceso y modificación normales por funciones de propiedad."
   ]
  },
  {
   "cell_type": "code",
   "execution_count": 125,
   "metadata": {},
   "outputs": [],
   "source": [
    "class Persona:\n",
    "    def __init__(self, nombre, edad, direccion):\n",
    "        self.nombre = nombre\n",
    "        self.edad = edad\n",
    "        self.__direccion = direccion\n",
    "\n",
    "    @property\n",
    "    def direccion(self):\n",
    "        return self.__direccion\n",
    "\n",
    "    @direccion.setter\n",
    "    def direccion(self, direccion):\n",
    "        if direccion == \"Calle Falsa 123\":\n",
    "            raise \"Error direccion falsa\"    \n",
    "        self.__direccion = direccion"
   ]
  },
  {
   "cell_type": "code",
   "execution_count": 127,
   "metadata": {},
   "outputs": [],
   "source": [
    "p = Persona(\"Juan\", 25, \"Av. Siempre Viva 123\")\n",
    "#p.direccion = \"Calle Falsa 123\"\n",
    "p.direccion = \"Calle Falsa 1234\""
   ]
  },
  {
   "cell_type": "markdown",
   "metadata": {},
   "source": [
    "Es importante utilizar el Encapsulamiento y las Propiedades para controlar el acceso a los datos en nuestras clases de Python. Con ello podemos mantener nuestros datos privados, aumentar la seguridad y asegurarnos de no permitir modificaciones no deseadas de los datos."
   ]
  },
  {
   "cell_type": "code",
   "execution_count": null,
   "metadata": {},
   "outputs": [],
   "source": []
  },
  {
   "cell_type": "code",
   "execution_count": 128,
   "metadata": {},
   "outputs": [],
   "source": [
    "class Reverse:\n",
    "    \"\"\"Iterator for looping over a sequence backwards.\"\"\"\n",
    "    def __init__(self, data):\n",
    "        self.data = data\n",
    "        self.index = len(data)\n",
    "\n",
    "    def __iter__(self):\n",
    "        return self\n",
    "\n",
    "    def __next__(self):\n",
    "        if self.index == 0:\n",
    "            raise StopIteration\n",
    "        self.index = self.index - 1\n",
    "        return self.data[self.index]"
   ]
  },
  {
   "cell_type": "code",
   "execution_count": 129,
   "metadata": {},
   "outputs": [],
   "source": [
    "rev = Reverse('spam')"
   ]
  },
  {
   "cell_type": "code",
   "execution_count": 130,
   "metadata": {},
   "outputs": [
    {
     "data": {
      "text/plain": [
       "<__main__.Reverse at 0x10e3b5d50>"
      ]
     },
     "execution_count": 130,
     "metadata": {},
     "output_type": "execute_result"
    }
   ],
   "source": [
    "iter(rev)"
   ]
  },
  {
   "cell_type": "code",
   "execution_count": 131,
   "metadata": {},
   "outputs": [
    {
     "name": "stdout",
     "output_type": "stream",
     "text": [
      "m\n",
      "a\n",
      "p\n",
      "s\n"
     ]
    }
   ],
   "source": [
    "for char in rev:\n",
    "    print(char)"
   ]
  },
  {
   "cell_type": "code",
   "execution_count": null,
   "metadata": {},
   "outputs": [],
   "source": []
  },
  {
   "cell_type": "markdown",
   "metadata": {},
   "source": [
    "# Ejemplos: "
   ]
  },
  {
   "cell_type": "markdown",
   "metadata": {},
   "source": []
  },
  {
   "cell_type": "code",
   "execution_count": 133,
   "metadata": {},
   "outputs": [
    {
     "name": "stdout",
     "output_type": "stream",
     "text": [
      "Toyota Corolla (2020)\n",
      "Kilometraje: 15000\n"
     ]
    }
   ],
   "source": [
    "class Auto:\n",
    "    def __init__(self, marca, modelo, año):\n",
    "        self.marca = marca\n",
    "        self.modelo = modelo\n",
    "        self.año = año\n",
    "        self.kilometraje = 0\n",
    "\n",
    "    def mostrar_descripcion(self):\n",
    "        return f\"{self.marca} {self.modelo} ({self.año})\"\n",
    "\n",
    "    def actualizar_kilometraje(self, km):\n",
    "        if km >= self.kilometraje:\n",
    "            self.kilometraje = km\n",
    "        else:\n",
    "            print(\"No puedes reducir el kilometraje.\")\n",
    "\n",
    "# Crear una instancia de Auto\n",
    "mi_auto = Auto(\"Toyota\", \"Corolla\", 2020)\n",
    "\n",
    "# Mostrar descripción del auto\n",
    "print(mi_auto.mostrar_descripcion())\n",
    "\n",
    "# Actualizar y mostrar kilometraje\n",
    "mi_auto.actualizar_kilometraje(15000)\n",
    "print(f\"Kilometraje: {mi_auto.kilometraje}\")"
   ]
  },
  {
   "cell_type": "code",
   "execution_count": 134,
   "metadata": {},
   "outputs": [
    {
     "name": "stdout",
     "output_type": "stream",
     "text": [
      "Tesla Model S (2022)\n",
      "Autonomía de la batería: 600 km\n"
     ]
    }
   ],
   "source": [
    "class Auto:\n",
    "    def __init__(self, marca, modelo, año):\n",
    "        self.marca = marca\n",
    "        self.modelo = modelo\n",
    "        self.año = año\n",
    "        self.kilometraje = 0\n",
    "\n",
    "    def mostrar_descripcion(self):\n",
    "        return f\"{self.marca} {self.modelo} ({self.año})\"\n",
    "\n",
    "    def actualizar_kilometraje(self, km):\n",
    "        if km >= self.kilometraje:\n",
    "            self.kilometraje = km\n",
    "        else:\n",
    "            print(\"No puedes reducir el kilometraje.\")\n",
    "\n",
    "class AutoElectrico(Auto):\n",
    "    def __init__(self, marca, modelo, año, autonomia_bateria):\n",
    "        super().__init__(marca, modelo, año)\n",
    "        self.autonomia_bateria = autonomia_bateria\n",
    "\n",
    "    def mostrar_autonomia(self):\n",
    "        return f\"Autonomía de la batería: {self.autonomia_bateria} km\"\n",
    "\n",
    "# Crear una instancia de AutoElectrico\n",
    "mi_auto_electrico = AutoElectrico(\"Tesla\", \"Model S\", 2022, 600)\n",
    "\n",
    "# Mostrar descripción y autonomía del auto eléctrico\n",
    "print(mi_auto_electrico.mostrar_descripcion())\n",
    "print(mi_auto_electrico.mostrar_autonomia())"
   ]
  },
  {
   "cell_type": "code",
   "execution_count": null,
   "metadata": {},
   "outputs": [],
   "source": []
  },
  {
   "cell_type": "code",
   "execution_count": null,
   "metadata": {},
   "outputs": [],
   "source": []
  },
  {
   "cell_type": "code",
   "execution_count": 83,
   "metadata": {},
   "outputs": [
    {
     "ename": "TypeError",
     "evalue": "AutoGasolina.__init__() missing 1 required positional argument: 'capacidad_tanque'",
     "output_type": "error",
     "traceback": [
      "\u001b[0;31m---------------------------------------------------------------------------\u001b[0m",
      "\u001b[0;31mTypeError\u001b[0m                                 Traceback (most recent call last)",
      "Cell \u001b[0;32mIn[83], line 39\u001b[0m\n\u001b[1;32m     36\u001b[0m         AutoGasolina\u001b[38;5;241m.\u001b[39m\u001b[38;5;21m__init__\u001b[39m(\u001b[38;5;28mself\u001b[39m, marca, modelo, año, capacidad_tanque)\n\u001b[1;32m     38\u001b[0m \u001b[38;5;66;03m# Crear una instancia de AutoHibrido\u001b[39;00m\n\u001b[0;32m---> 39\u001b[0m mi_auto_hibrido \u001b[38;5;241m=\u001b[39m \u001b[43mAutoHibrido\u001b[49m\u001b[43m(\u001b[49m\u001b[38;5;124;43m\"\u001b[39;49m\u001b[38;5;124;43mToyota\u001b[39;49m\u001b[38;5;124;43m\"\u001b[39;49m\u001b[43m,\u001b[49m\u001b[43m \u001b[49m\u001b[38;5;124;43m\"\u001b[39;49m\u001b[38;5;124;43mPrius\u001b[39;49m\u001b[38;5;124;43m\"\u001b[39;49m\u001b[43m,\u001b[49m\u001b[43m \u001b[49m\u001b[38;5;241;43m2021\u001b[39;49m\u001b[43m,\u001b[49m\u001b[43m \u001b[49m\u001b[38;5;241;43m500\u001b[39;49m\u001b[43m,\u001b[49m\u001b[43m \u001b[49m\u001b[38;5;241;43m45\u001b[39;49m\u001b[43m)\u001b[49m\n\u001b[1;32m     41\u001b[0m \u001b[38;5;66;03m# Mostrar descripción, autonomía y capacidad del tanque\u001b[39;00m\n\u001b[1;32m     42\u001b[0m \u001b[38;5;28mprint\u001b[39m(mi_auto_hibrido\u001b[38;5;241m.\u001b[39mmostrar_descripcion())\n",
      "Cell \u001b[0;32mIn[83], line 35\u001b[0m, in \u001b[0;36mAutoHibrido.__init__\u001b[0;34m(self, marca, modelo, año, autonomia_bateria, capacidad_tanque)\u001b[0m\n\u001b[1;32m     34\u001b[0m \u001b[38;5;28;01mdef\u001b[39;00m \u001b[38;5;21m__init__\u001b[39m(\u001b[38;5;28mself\u001b[39m, marca, modelo, año, autonomia_bateria, capacidad_tanque):\n\u001b[0;32m---> 35\u001b[0m     \u001b[43mAutoElectrico\u001b[49m\u001b[38;5;241;43m.\u001b[39;49m\u001b[38;5;21;43m__init__\u001b[39;49m\u001b[43m(\u001b[49m\u001b[38;5;28;43mself\u001b[39;49m\u001b[43m,\u001b[49m\u001b[43m \u001b[49m\u001b[43mmarca\u001b[49m\u001b[43m,\u001b[49m\u001b[43m \u001b[49m\u001b[43mmodelo\u001b[49m\u001b[43m,\u001b[49m\u001b[43m \u001b[49m\u001b[43maño\u001b[49m\u001b[43m,\u001b[49m\u001b[43m \u001b[49m\u001b[43mautonomia_bateria\u001b[49m\u001b[43m)\u001b[49m\n\u001b[1;32m     36\u001b[0m     AutoGasolina\u001b[38;5;241m.\u001b[39m\u001b[38;5;21m__init__\u001b[39m(\u001b[38;5;28mself\u001b[39m, marca, modelo, año, capacidad_tanque)\n",
      "Cell \u001b[0;32mIn[83], line 19\u001b[0m, in \u001b[0;36mAutoElectrico.__init__\u001b[0;34m(self, marca, modelo, año, autonomia_bateria)\u001b[0m\n\u001b[1;32m     18\u001b[0m \u001b[38;5;28;01mdef\u001b[39;00m \u001b[38;5;21m__init__\u001b[39m(\u001b[38;5;28mself\u001b[39m, marca, modelo, año, autonomia_bateria):\n\u001b[0;32m---> 19\u001b[0m     \u001b[38;5;28;43msuper\u001b[39;49m\u001b[43m(\u001b[49m\u001b[43m)\u001b[49m\u001b[38;5;241;43m.\u001b[39;49m\u001b[38;5;21;43m__init__\u001b[39;49m\u001b[43m(\u001b[49m\u001b[43mmarca\u001b[49m\u001b[43m,\u001b[49m\u001b[43m \u001b[49m\u001b[43mmodelo\u001b[49m\u001b[43m,\u001b[49m\u001b[43m \u001b[49m\u001b[43maño\u001b[49m\u001b[43m)\u001b[49m\n\u001b[1;32m     20\u001b[0m     \u001b[38;5;28mself\u001b[39m\u001b[38;5;241m.\u001b[39mautonomia_bateria \u001b[38;5;241m=\u001b[39m autonomia_bateria\n",
      "\u001b[0;31mTypeError\u001b[0m: AutoGasolina.__init__() missing 1 required positional argument: 'capacidad_tanque'"
     ]
    }
   ],
   "source": [
    "class Auto:\n",
    "    def __init__(self, marca, modelo, año):\n",
    "        self.marca = marca\n",
    "        self.modelo = modelo\n",
    "        self.año = año\n",
    "        self.kilometraje = 0\n",
    "\n",
    "    def mostrar_descripcion(self):\n",
    "        return f\"{self.marca} {self.modelo} ({self.año})\"\n",
    "\n",
    "    def actualizar_kilometraje(self, km):\n",
    "        if km >= self.kilometraje:\n",
    "            self.kilometraje = km\n",
    "        else:\n",
    "            print(\"No puedes reducir el kilometraje.\")\n",
    "\n",
    "class AutoElectrico(Auto):\n",
    "    def __init__(self, marca, modelo, año, autonomia_bateria):\n",
    "        super().__init__(marca, modelo, año)\n",
    "        self.autonomia_bateria = autonomia_bateria\n",
    "\n",
    "    def mostrar_autonomia(self):\n",
    "        return f\"Autonomía de la batería: {self.autonomia_bateria} km\"\n",
    "\n",
    "class AutoGasolina(Auto):\n",
    "    def __init__(self, marca, modelo, año, capacidad_tanque):\n",
    "        super().__init__(marca, modelo, año)\n",
    "        self.capacidad_tanque = capacidad_tanque\n",
    "\n",
    "    def mostrar_capacidad_tanque(self):\n",
    "        return f\"Capacidad del tanque: {self.capacidad_tanque} litros\"\n",
    "\n",
    "class AutoHibrido(AutoElectrico, AutoGasolina):\n",
    "    def __init__(self, marca, modelo, año, autonomia_bateria, capacidad_tanque):\n",
    "        AutoElectrico.__init__(self, marca, modelo, año, autonomia_bateria)\n",
    "        AutoGasolina.__init__(self, marca, modelo, año, capacidad_tanque)\n",
    "\n",
    "# Crear una instancia de AutoHibrido\n",
    "mi_auto_hibrido = AutoHibrido(\"Toyota\", \"Prius\", 2021, 500, 45)\n",
    "\n",
    "# Mostrar descripción, autonomía y capacidad del tanque\n",
    "print(mi_auto_hibrido.mostrar_descripcion())\n",
    "print(mi_auto_hibrido.mostrar_autonomia())\n",
    "print(mi_auto_hibrido.mostrar_capacidad_tanque())\n"
   ]
  },
  {
   "cell_type": "markdown",
   "metadata": {},
   "source": [
    "<footer id=\"attribution\" style=\"float:right; color:#808080; background:#fff;\">\n",
    "Created with Jupyter by Michel López.\n",
    "</footer>"
   ]
  },
  {
   "cell_type": "code",
   "execution_count": 12,
   "metadata": {},
   "outputs": [
    {
     "data": {
      "text/html": [
       "<style>\n",
       ".rendered_html p {color: red; font-size: 30px;}\n",
       "</style>\n"
      ],
      "text/plain": [
       "<IPython.core.display.HTML object>"
      ]
     },
     "metadata": {},
     "output_type": "display_data"
    }
   ],
   "source": [
    "%%html\n",
    "<style>\n",
    ".rendered_html p {color: red; font-size: 30px;}\n",
    "</style>"
   ]
  },
  {
   "cell_type": "markdown",
   "metadata": {},
   "source": []
  }
 ],
 "metadata": {
  "kernelspec": {
   "display_name": "General",
   "language": "python",
   "name": "python3"
  },
  "language_info": {
   "codemirror_mode": {
    "name": "ipython",
    "version": 3
   },
   "file_extension": ".py",
   "mimetype": "text/x-python",
   "name": "python",
   "nbconvert_exporter": "python",
   "pygments_lexer": "ipython3",
   "version": "3.12.3"
  }
 },
 "nbformat": 4,
 "nbformat_minor": 2
}
